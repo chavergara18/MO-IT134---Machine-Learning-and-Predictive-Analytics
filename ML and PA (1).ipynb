{
 "cells": [
  {
   "cell_type": "code",
   "execution_count": 67,
   "id": "16bb28a9-7ef0-46ad-8582-9fb182d1b18a",
   "metadata": {},
   "outputs": [
    {
     "name": "stdout",
     "output_type": "stream",
     "text": [
      "Columns before cleaning: Index(['Company_ID', 'Company_Name', 'Company_Profit', 'Address'], dtype='object')\n",
      "Columns after cleaning: Index(['company_id', 'company_name', 'company_profit', 'address'], dtype='object')\n",
      "   company_id          company_name  company_profit  \\\n",
      "0         1.0  Tech  Enterprises  1         80701.0   \n",
      "1         2.0   Global  Partners  2         80511.0   \n",
      "2         3.0  Quantum Associates 3        110664.0   \n",
      "3         4.0       Prime Network 4         76400.5   \n",
      "4         5.0    Elite  Ventures  5         69427.0   \n",
      "\n",
      "                                             address  \n",
      "0             Edsa, Barangay 606, Pasig, Philippines  \n",
      "1  Commonwealth Ave, Barangay 789, Taguig, Philip...  \n",
      "2       Roxas Blvd, Barangay 505, Pasig, Philippines  \n",
      "3  Alabang-Zapote Rd, Barangay 202, Taguig, Phili...  \n",
      "4    Ayala Avenue, Barangay 101, Makati, Philippines  \n"
     ]
    }
   ],
   "source": [
    "import pandas as pd\n",
    "\n",
    "\n",
    "file_path = r\"C:\\Users\\User\\Downloads\\customers_data.csv\"  \n",
    "data = pd.read_csv(file_path)\n",
    "\n",
    "\n",
    "print(\"Columns before cleaning:\", data.columns)\n",
    "data.columns = data.columns.str.strip().str.lower().str.replace(' ', '_')\n",
    "print(\"Columns after cleaning:\", data.columns)\n",
    "data = data.drop_duplicates()\n",
    "\n",
    "if 'company_profit' in data.columns:\n",
    "    data['company_profit'] = data['company_profit'].fillna(data['company_profit'].mean())\n",
    "else:\n",
    "    print(\"'company_profit' column not found in the dataset.\")\n",
    "\n",
    "if 'company_name' in data.columns:\n",
    "    data['company_name'] = data['company_name'].fillna('Unknown')\n",
    "\n",
    "if 'company_name' in data.columns:\n",
    "    data['company_name'] = data['company_name'].str.replace(r'[^\\w\\s]', '', regex=True)  \n",
    "    data['company_name'] = data['company_name'].str.strip() \n",
    "\n",
    "\n",
    "if 'address' in data.columns:\n",
    "    data['address'] = data['address'].str.strip().str.title()\n",
    "\n",
    "if 'company_profit' in data.columns:\n",
    "    data['company_profit'] = pd.to_numeric(data['company_profit'], errors='coerce')  \n",
    "\n",
    "data = data.dropna()\n",
    "\n",
    "data.to_csv('cleaned_file.csv', index=False)\n",
    "\n",
    "print(data.head())"
   ]
  },
  {
   "cell_type": "code",
   "execution_count": 47,
   "id": "2a187f8c-c7fc-4224-805f-d09db7116e45",
   "metadata": {
    "scrolled": true
   },
   "outputs": [
    {
     "name": "stdout",
     "output_type": "stream",
     "text": [
      "Columns before cleaning: Index(['Product_ID', 'Product_Name', 'Product_Price'], dtype='object')\n",
      "Columns after cleaning: Index(['product_id', 'product_name', 'product_price'], dtype='object')\n",
      "0    140000.0\n",
      "1    168000.0\n",
      "2    100800.0\n",
      "3    123200.0\n",
      "4     84000.0\n",
      "Name: product_price, dtype: float64\n",
      "   product_id            product_name  product_price\n",
      "0         1.0      FinPredictor Suite       140000.0\n",
      "1         2.0  MarketMinder Analytics       168000.0\n",
      "2         3.0    TrendWise Forecaster       100800.0\n",
      "3         4.0  CustomerScope Insights       123200.0\n",
      "4         5.0     SalesSync Optimizer        84000.0\n"
     ]
    }
   ],
   "source": [
    "import pandas as pd\n",
    "\n",
    "\n",
    "file_path = r\"C:\\path\\to\\your\\products_data.csv\"  \n",
    "data = pd.read_csv(file_path)\n",
    "\n",
    "print(\"Columns before cleaning:\", data.columns)\n",
    "\n",
    "data.columns = data.columns.str.strip().str.lower().str.replace(' ', '_')\n",
    "\n",
    "print(\"Columns after cleaning:\", data.columns)\n",
    "\n",
    "data = data.drop_duplicates()\n",
    "\n",
    "data['product_name'] = data['product_name'].fillna('Unknown')\n",
    "\n",
    "data['product_price'] = data['product_price'].replace(r'[^\\d.]', '', regex=True).astype(float)\n",
    "\n",
    "print(data['product_price'].head())\n",
    "\n",
    "data = data.dropna(subset=['product_price'])\n",
    "\n",
    "data.to_csv('cleaned_products_data.csv', index=False)\n",
    "\n",
    "print(data.head())\n"
   ]
  },
  {
   "cell_type": "code",
   "execution_count": 51,
   "id": "d5564d43-5165-47d3-ab2d-c74bbbf1e7d1",
   "metadata": {},
   "outputs": [
    {
     "name": "stdout",
     "output_type": "stream",
     "text": [
      "   transaction_id  company_id  product_id  quantity transaction_date  \\\n",
      "0             1.0        88.0         6.0      11.0              NaT   \n",
      "1             2.0        29.0        19.0      16.0              NaT   \n",
      "2             NaN        28.0        18.0       6.0              NaT   \n",
      "3             4.0        85.0        12.0      12.0              NaT   \n",
      "4             5.0        47.0         3.0       8.0       2021-06-07   \n",
      "\n",
      "   product_price  total_cost  \n",
      "0  194379.147964   1075200.0  \n",
      "1   97930.993380   1428000.0  \n",
      "2  126095.547778    940800.0  \n",
      "3  134652.802537   1008000.0  \n",
      "4   99575.609634    705600.0  \n"
     ]
    }
   ],
   "source": [
    "import pandas as pd\n",
    "\n",
    "file_path = r\"C:\\Users\\User\\Downloads\\transactions_data.csv\"  \n",
    "data = pd.read_csv(file_path)\n",
    "\n",
    "data = data.drop(columns=['Unnamed: 0'], errors='ignore')\n",
    "\n",
    "data.columns = data.columns.str.strip().str.lower().str.replace(' ', '_')\n",
    "\n",
    "data['transaction_date'] = pd.to_datetime(data['transaction_date'], format='%d/%m/%Y', errors='coerce') \n",
    "\n",
    "data['product_price'] = data['product_price'].replace(r'[^\\d.]', '', regex=True).astype(float)\n",
    "data['total_cost'] = data['total_cost'].replace(r'[^\\d.]', '', regex=True).astype(float)\n",
    "\n",
    "data['quantity'] = pd.to_numeric(data['quantity'], errors='coerce')\n",
    "\n",
    "\n",
    "data['product_price'] = data['product_price'].fillna(data['product_price'].mean())\n",
    "data['total_cost'] = data['total_cost'].fillna(data['total_cost'].mean())\n",
    "\n",
    "data['quantity'] = data['quantity'].fillna(data['quantity'].median()) \n",
    "\n",
    "data['product_id'] = data['product_id'].fillna(-1)\n",
    "data['company_id'] = data['company_id'].fillna(-1)\n",
    "\n",
    "data = data.dropna(subset=['product_id', 'quantity', 'product_price', 'total_cost'])\n",
    "\n",
    "data.to_csv('cleaned_transactions_data.csv', index=False)\n",
    "\n",
    "print(data.head())\n"
   ]
  },
  {
   "cell_type": "code",
   "execution_count": 37,
   "id": "5946fb08-fa83-48f5-a9e1-57d2879696dd",
   "metadata": {},
   "outputs": [
    {
     "name": "stdout",
     "output_type": "stream",
     "text": [
      "Mean Squared Error (MSE): 69755767105.9942\n",
      "R-squared (R²) score: 0.9142358552471196\n",
      "Coefficients: [1.02933705e+01 1.32173917e+05]\n",
      "Intercept: -1353834.705719971\n",
      "Predicted Total Costs: [-163958.65842669  389749.24429542  944584.53892183  428674.25371822\n",
      " 1420849.38190308 1953659.20231764 1649768.7538117   689625.46342224\n",
      " 1044233.77235066 1873099.04115201]\n"
     ]
    }
   ],
   "source": [
    "from sklearn.model_selection import train_test_split\n",
    "from sklearn.linear_model import LinearRegression\n",
    "from sklearn.metrics import mean_squared_error, r2_score\n",
    "\n",
    "# Use the features (Product_Price, Quantity) and the target ('Total_Cost')\n",
    "feature_columns = ['Product_Price', 'Quantity']\n",
    "target = 'Total_Cost'\n",
    "\n",
    "# Drop rows with missing values in features and target\n",
    "data = data.dropna(subset=feature_columns + [target])\n",
    "\n",
    "# Select features (X) and target variable (y)\n",
    "X = data[feature_columns]\n",
    "y = data[target]\n",
    "\n",
    "# Train-test split (80% train, 20% test)\n",
    "X_train, X_test, y_train, y_test = train_test_split(X, y, test_size=0.2, random_state=42)\n",
    "\n",
    "# Initialize and train the Linear Regression model\n",
    "model = LinearRegression()\n",
    "model.fit(X_train, y_train)\n",
    "\n",
    "# Make predictions\n",
    "y_pred = model.predict(X_test)\n",
    "\n",
    "# Evaluate the model\n",
    "mse = mean_squared_error(y_test, y_pred)  # Mean Squared Error\n",
    "r2 = r2_score(y_test, y_pred)  # R-squared score\n",
    "\n",
    "print(\"Mean Squared Error (MSE):\", mse)\n",
    "print(\"R-squared (R²) score:\", r2)\n",
    "\n",
    "# Display model coefficients and intercept\n",
    "print(\"Coefficients:\", model.coef_)\n",
    "print(\"Intercept:\", model.intercept_)\n",
    "\n",
    "# Predictions\n",
    "print(\"Predicted Total Costs:\", y_pred[:10])  # Show first 10 predictions\n"
   ]
  },
  {
   "cell_type": "code",
   "execution_count": null,
   "id": "470d7430-d387-4952-977c-9d05b246c92c",
   "metadata": {},
   "outputs": [],
   "source": []
  }
 ],
 "metadata": {
  "kernelspec": {
   "display_name": "Python 3 (ipykernel)",
   "language": "python",
   "name": "python3"
  },
  "language_info": {
   "codemirror_mode": {
    "name": "ipython",
    "version": 3
   },
   "file_extension": ".py",
   "mimetype": "text/x-python",
   "name": "python",
   "nbconvert_exporter": "python",
   "pygments_lexer": "ipython3",
   "version": "3.12.4"
  }
 },
 "nbformat": 4,
 "nbformat_minor": 5
}
